{
 "cells": [
  {
   "cell_type": "markdown",
   "metadata": {},
   "source": [
    "# What is the True Normal Human Body Temperature? \n",
    "\n",
    "#### Background\n",
    "\n",
    "The mean normal body temperature was held to be 37$^{\\circ}$C or 98.6$^{\\circ}$F for more than 120 years since it was first conceptualized and reported by Carl Wunderlich in a famous 1868 book. But, is this value statistically correct?"
   ]
  },
  {
   "cell_type": "markdown",
   "metadata": {},
   "source": [
    "<h3>Exercises</h3>\n",
    "\n",
    "<p>In this exercise, you will analyze a dataset of human body temperatures and employ the concepts of hypothesis testing, confidence intervals, and statistical significance.</p>\n",
    "\n",
    "<p>Answer the following questions <b>in this notebook below and submit to your Github account</b>.</p> \n",
    "\n",
    "<ol>\n",
    "<li>  Is the distribution of body temperatures normal? \n",
    "    <ul>\n",
    "    <li> Although this is not a requirement for CLT to hold (read CLT carefully), it gives us some peace of mind that the population may also be normally distributed if we assume that this sample is representative of the population.\n",
    "    </ul>\n",
    "<li>  Is the sample size large? Are the observations independent?\n",
    "    <ul>\n",
    "    <li> Remember that this is a condition for the CLT, and hence the statistical tests we are using, to apply.\n",
    "    </ul>\n",
    "<li>  Is the true population mean really 98.6 degrees F?\n",
    "    <ul>\n",
    "    <li> Would you use a one-sample or two-sample test? Why?\n",
    "    <li> In this situation, is it appropriate to use the $t$ or $z$ statistic? \n",
    "    <li> Now try using the other test. How is the result be different? Why?\n",
    "    </ul>\n",
    "<li>  Draw a small sample of size 10 from the data and repeat both tests. \n",
    "    <ul>\n",
    "    <li> Which one is the correct one to use? \n",
    "    <li> What do you notice? What does this tell you about the difference in application of the $t$ and $z$ statistic?\n",
    "    </ul>\n",
    "<li>  At what temperature should we consider someone's temperature to be \"abnormal\"?\n",
    "    <ul>\n",
    "    <li> Start by computing the margin of error and confidence interval.\n",
    "    </ul>\n",
    "<li>  Is there a significant difference between males and females in normal temperature?\n",
    "    <ul>\n",
    "    <li> What test did you use and why?\n",
    "    <li> Write a story with your conclusion in the context of the original problem.\n",
    "    </ul>\n",
    "</ol>\n",
    "\n",
    "You can include written notes in notebook cells using Markdown: \n",
    "   - In the control panel at the top, choose Cell > Cell Type > Markdown\n",
    "   - Markdown syntax: http://nestacms.com/docs/creating-content/markdown-cheat-sheet\n",
    "\n",
    "#### Resources\n",
    "\n",
    "+ Information and data sources: http://www.amstat.org/publications/jse/datasets/normtemp.txt, http://www.amstat.org/publications/jse/jse_data_archive.htm\n",
    "+ Markdown syntax: http://nestacms.com/docs/creating-content/markdown-cheat-sheet\n",
    "\n",
    "****"
   ]
  },
  {
   "cell_type": "code",
   "execution_count": 10,
   "metadata": {
    "collapsed": true
   },
   "outputs": [],
   "source": [
    "import pandas as pd\n",
    "import seaborn as sns\n",
    "import numpy as np\n",
    "%matplotlib inline\n",
    "\n",
    "\n",
    "df = pd.read_csv('data/human_body_temperature.csv')"
   ]
  },
  {
   "cell_type": "code",
   "execution_count": 14,
   "metadata": {},
   "outputs": [
    {
     "name": "stdout",
     "output_type": "stream",
     "text": [
      "<class 'pandas.core.frame.DataFrame'>\n",
      "RangeIndex: 130 entries, 0 to 129\n",
      "Data columns (total 3 columns):\n",
      "temperature    130 non-null float64\n",
      "gender         130 non-null object\n",
      "heart_rate     130 non-null float64\n",
      "dtypes: float64(2), object(1)\n",
      "memory usage: 3.1+ KB\n"
     ]
    }
   ],
   "source": [
    "df.head()\n",
    "df.info()"
   ]
  },
  {
   "cell_type": "markdown",
   "metadata": {},
   "source": [
    "#1 - Is the distribution of body temperatures normal?\n",
    "Although this is not a requirement for CLT to hold (read CLT carefully), it gives us some peace of mind that the population may also be normally distributed if we assume that this sample is representative of the population"
   ]
  },
  {
   "cell_type": "code",
   "execution_count": 13,
   "metadata": {},
   "outputs": [
    {
     "data": {
      "text/plain": [
       "<matplotlib.axes._subplots.AxesSubplot at 0xb9e0ef0>"
      ]
     },
     "execution_count": 13,
     "metadata": {},
     "output_type": "execute_result"
    },
    {
     "data": {
      "image/png": "[encoded data removed]",
      "text/plain": [
       "<matplotlib.figure.Figure at 0xbbcec18>"
      ]
     },
     "metadata": {},
     "output_type": "display_data"
    }
   ],
   "source": [
    "# Normal Curve for reference\n",
    "normal_dist = np.random.normal(size=130)\n",
    "sns.distplot(normal_dist)"
   ]
  },
  {
   "cell_type": "code",
   "execution_count": 17,
   "metadata": {},
   "outputs": [
    {
     "data": {
      "text/plain": [
       "<matplotlib.axes._subplots.AxesSubplot at 0xc3ef4e0>"
      ]
     },
     "execution_count": 17,
     "metadata": {},
     "output_type": "execute_result"
    },
    {
     "data": {
      "image/png": "[encoded data removed]",
      "text/plain": [
       "<matplotlib.figure.Figure at 0xc3d6518>"
      ]
     },
     "metadata": {},
     "output_type": "display_data"
    }
   ],
   "source": [
    "# Distribution of temperatures which looks like it follows a normal distribution\n",
    "temp_dist = df['temperature']\n",
    "sns.distplot(temp_dist)"
   ]
  },
  {
   "cell_type": "markdown",
   "metadata": {},
   "source": [
    "#2 Is the sample size large? Are the observations independent?\n",
    "Remember that this is a condition for the CLT, and hence the statistical tests we are using, to apply.\n",
    "\n",
    "**Yes, the sample size is relatively large (130) and observations are independent as I assume these are different people's body temperatures.**"
   ]
  },
  {
   "cell_type": "markdown",
   "metadata": {},
   "source": [
    "#3 Is the true population mean really 98.6 degrees F? **Would need to perform a hypothesis test to determine this (See below), from the z test we can not say the true population mean is really 98.6**\n",
    "\n",
    "Would you use a one-sample or two-sample test? Why? **Two sample test as a temperature can be above and below the mean**\n",
    "\n",
    "In this situation, is it appropriate to use the  tt  or  zz  statistic? **A Z statistic is appropriate here as we assume a normal distribution for the population**\n",
    "\n",
    "Now try using the other test. How is the result be different? Why? **A T-test would be similar but will have a larger confidence interval but our true population mean still falls outside the T-test confidence interval so our conclusions do not change.**"
   ]
  },
  {
   "cell_type": "code",
   "execution_count": 62,
   "metadata": {},
   "outputs": [
    {
     "name": "stdout",
     "output_type": "stream",
     "text": [
      "Sample Mean: 98.24923076923078, Sample STD: 0.7331831580389454\n",
      "Population Mean: 98.6, Population STD: 0.064304416837891\n",
      "Confidence Interval: (98.47396334299773, 98.72603665700225)\n"
     ]
    }
   ],
   "source": [
    "# Perform hypothesis test to determine if population mean is really 98.6, and using the 95% confidence interval we can see that \n",
    "# our sample mean falls below the lower end of the CI range meaning that we can not say that the true population mean is really\n",
    "# 98.6\n",
    "\n",
    "sample_mean = temp_dist.mean()\n",
    "sample_std = temp_dist.std()\n",
    "print('Sample Mean: {}, Sample STD: {}'.format(sample_mean, sample_std))\n",
    "\n",
    "pop_mean = 98.6\n",
    "pop_std = math.sqrt((sample_std**2)/len(temp_dist))\n",
    "print('Population Mean: {}, Population STD: {}'.format(pop_mean, pop_std))\n",
    "\n",
    "z_score = 1.96\n",
    "conf_interval = (pop_mean - z_score*pop_std, pop_mean + z_score*pop_std)\n",
    "print('Confidence Interval: {}'.format(conf_interval))\n"
   ]
  },
  {
   "cell_type": "code",
   "execution_count": 63,
   "metadata": {},
   "outputs": [
    {
     "name": "stdout",
     "output_type": "stream",
     "text": [
      "Confidence Interval: (98.47267725466097, 98.72732274533902)\n"
     ]
    }
   ],
   "source": [
    "# T-test\n",
    "t_score = 1.98\n",
    "conf_interval = (pop_mean - t_score*pop_std, pop_mean + t_score*pop_std)\n",
    "print('Confidence Interval: {}'.format(conf_interval))\n"
   ]
  },
  {
   "cell_type": "markdown",
   "metadata": {},
   "source": [
    "#4 Draw a small sample of size 10 from the data and repeat both tests.\n",
    "Which one is the correct one to use? **We would want to use a T-test since sample size is small**\n",
    "What do you notice? What does this tell you about the difference in application of the  tt  and  zz  statistic? **T test produces a slightly larger confidence interval similar to what was seen before. **"
   ]
  },
  {
   "cell_type": "code",
   "execution_count": 64,
   "metadata": {},
   "outputs": [
    {
     "name": "stdout",
     "output_type": "stream",
     "text": [
      "     temperature gender  heart_rate\n",
      "8           98.4      F        84.0\n",
      "59          97.6      M        73.0\n",
      "92          98.8      F        84.0\n",
      "104         97.6      M        69.0\n",
      "97          98.7      F        64.0\n",
      "30          98.3      M        86.0\n",
      "44          99.0      F        79.0\n",
      "33          98.6      M        82.0\n",
      "63          98.6      M        83.0\n",
      "26          97.8      F        62.0\n",
      "Sample Mean: 98.34, Sample STD: 0.5059644256269423\n",
      "Population Mean: 98.6, Population STD: 0.16000000000000053\n",
      "Confidence Interval (Z-Test): (98.28639999999999, 98.9136)\n",
      "Confidence Interval (T-Test): (98.2832, 98.9168)\n"
     ]
    }
   ],
   "source": [
    "np.random.seed(0)\n",
    "df_new = df.take(np.random.permutation(len(df))[:10])\n",
    "\n",
    "print(df_new.head(10))\n",
    "\n",
    "temp_dist_small = df_new['temperature']\n",
    "\n",
    "sample_mean = temp_dist_small.mean()\n",
    "sample_std = temp_dist_small.std()\n",
    "print('Sample Mean: {}, Sample STD: {}'.format(sample_mean, sample_std))\n",
    "\n",
    "pop_mean = 98.6\n",
    "pop_std = math.sqrt((sample_std**2)/len(temp_dist_small))\n",
    "print('Population Mean: {}, Population STD: {}'.format(pop_mean, pop_std))\n",
    "\n",
    "z_score = 1.96\n",
    "conf_interval = (pop_mean - z_score*pop_std, pop_mean + z_score*pop_std)\n",
    "print('Confidence Interval (Z-Test): {}'.format(conf_interval))\n",
    "\n",
    "# T-test\n",
    "t_score = 1.98\n",
    "conf_interval = (pop_mean - t_score*pop_std, pop_mean + t_score*pop_std)\n",
    "print('Confidence Interval (T-Test): {}'.format(conf_interval))\n",
    "\n"
   ]
  },
  {
   "cell_type": "markdown",
   "metadata": {},
   "source": [
    "#5 At what temperature should we consider someone's temperature to be \"abnormal\"?\n",
    "Start by computing the margin of error and confidence interval. \n",
    "\n",
    "**Based on the population mean of 98.2 and the 95% confidence interval we can say temperatures below 98.1 and above 98.3 would be considered abnormal."
   ]
  },
  {
   "cell_type": "code",
   "execution_count": 30,
   "metadata": {},
   "outputs": [
    {
     "name": "stdout",
     "output_type": "stream",
     "text": [
      "Confidence Interval: (98.07396334299774, 98.32603665700226)\n"
     ]
    }
   ],
   "source": [
    "z_score = 1.96\n",
    "pop_mean = 98.2\n",
    "pop_conf_interval = (pop_mean - z_score*pop_std, pop_mean + z_score*pop_std)\n",
    "print('Confidence Interval: {}'.format(pop_conf_interval))"
   ]
  },
  {
   "cell_type": "markdown",
   "metadata": {},
   "source": [
    "#6 Is there a significant difference between males and females in normal temperature?\n",
    "\n",
    "What test did you use and why? **T-test is used for comparisons between two different groups**\n",
    "\n",
    "Write a story with your conclusion in the context of the original problem. **There appears to be a difference observed in males and females body temperature but note that the p value was only slightly lower than 5% confidence interval so I would advise additional tests before drawing final conclusions**"
   ]
  },
  {
   "cell_type": "code",
   "execution_count": 44,
   "metadata": {},
   "outputs": [
    {
     "name": "stdout",
     "output_type": "stream",
     "text": [
      "As we have found a p-value of 0.02393 < 0.025 (two-tailed hypothesis), we can reject the null hypothesis that there is no difference between males and females\n"
     ]
    }
   ],
   "source": [
    "from scipy.stats import ttest_ind\n",
    "\n",
    "t_test = ttest_ind(df.temperature[df.gender == 'M'],df.temperature[df.gender == 'F'])\n",
    "\n",
    "print(\"As we have found a p-value of %0.5F < 0.025 (two-tailed hypothesis), we can reject the null hypothesis that there is no difference between males and females\" % t_test[1])\n"
   ]
  },
  {
   "cell_type": "code",
   "execution_count": null,
   "metadata": {
    "collapsed": true
   },
   "outputs": [],
   "source": []
  }
 ],
 "metadata": {
  "kernelspec": {
   "display_name": "Python 3",
   "language": "python",
   "name": "python3"
  },
  "language_info": {
   "codemirror_mode": {
    "name": "ipython",
    "version": 3
   },
   "file_extension": ".py",
   "mimetype": "text/x-python",
   "name": "python",
   "nbconvert_exporter": "python",
   "pygments_lexer": "ipython3",
   "version": "3.6.3"
  }
 },
 "nbformat": 4,
 "nbformat_minor": 1
}
